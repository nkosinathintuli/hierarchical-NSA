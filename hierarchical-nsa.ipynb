{
 "cells": [
  {
   "cell_type": "code",
   "execution_count": 1,
   "id": "b5d9267d-024e-46ec-8225-8c0c1a5667d4",
   "metadata": {},
   "outputs": [],
   "source": [
    "import numpy as np \n",
    "import pandas as pd"
   ]
  },
  {
   "cell_type": "code",
   "execution_count": 2,
   "id": "98219bd5-2977-44f0-8d5d-c150483c7bf8",
   "metadata": {},
   "outputs": [],
   "source": [
    "def normaliseMatrix(matrix): # returns a normalised decision matrix\n",
    "    #sanitize input\n",
    "    if type(matrix) != np.ndarray:matrix = np.array(matrix) \n",
    "\n",
    "    dim = matrix.shape # get dimension of the matrix\n",
    "    normalMatrix = np.empty(dim) # an empty matrix for the normalised values\n",
    "    n,x = dim\n",
    "\n",
    "    for i in range(n): # row (RAT)\n",
    "        for j in range(x): # column (criteria)\n",
    "            col = matrix[:,j] # get column j\n",
    "            m = matrix[i,j] # get the value of the matrix at (row i,column j)\n",
    "            normalMatrix[i,j] = m/np.sqrt( np.sum( np.square(col) ) ) #square-root normalisation function\n",
    "    \n",
    "    return normalMatrix\n",
    "\n",
    "def normaliseWeight(weight): # returns normalised weights\n",
    "    w = weight/np.sum(weight) #\n",
    "    return w\n",
    "\n",
    "def H(normalMatrix,normalWeight): # returns weighted normalised decision matrix\n",
    "    H = normalMatrix * normalWeight\n",
    "    return H "
   ]
  },
  {
   "cell_type": "code",
   "execution_count": null,
   "id": "e2fe292e-b70b-435e-8429-4313d15a2078",
   "metadata": {},
   "outputs": [],
   "source": []
  }
 ],
 "metadata": {
  "kernelspec": {
   "display_name": "Python 3 (ipykernel)",
   "language": "python",
   "name": "python3"
  },
  "language_info": {
   "codemirror_mode": {
    "name": "ipython",
    "version": 3
   },
   "file_extension": ".py",
   "mimetype": "text/x-python",
   "name": "python",
   "nbconvert_exporter": "python",
   "pygments_lexer": "ipython3",
   "version": "3.11.5"
  }
 },
 "nbformat": 4,
 "nbformat_minor": 5
}
