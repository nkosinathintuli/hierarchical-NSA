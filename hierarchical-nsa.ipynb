{
 "cells": [
  {
   "cell_type": "code",
   "execution_count": 13,
   "id": "b5d9267d-024e-46ec-8225-8c0c1a5667d4",
   "metadata": {},
   "outputs": [],
   "source": [
    "import numpy as np \n",
    "import pandas as pd"
   ]
  },
  {
   "cell_type": "markdown",
   "id": "8375fd59-7237-4440-b58a-020f2b5a57d4",
   "metadata": {},
   "source": [
    "#### Functions\n",
    "\n",
    "1. User-preferences Weights Calculations - Fuzzy Logic\n",
    "2. Service QoS Weights Calculations - AHP\n",
    "3. Weights Normalisation such ∑ w_i = 1\n",
    "4. Final Weights Calculation RAT layer\n",
    "5. MEW\n",
    "6. SAW"
   ]
  },
  {
   "cell_type": "markdown",
   "id": "02f524c1-d2ca-482f-aef2-045330fed6db",
   "metadata": {},
   "source": [
    "#### 1. Fuzzy Membership Funtion"
   ]
  },
  {
   "cell_type": "code",
   "execution_count": 14,
   "id": "ca28e724-90a6-4fb6-81ac-ed6a91ee1e88",
   "metadata": {},
   "outputs": [],
   "source": [
    "def fuzzy_membership(criteria_value, preference, min_value, max_value):\n",
    "    \"\"\"\n",
    "    Calculate the fuzzy membership value for a given criteria.\n",
    "    \n",
    "    :param criteria_value: The value of the criteria to evaluate\n",
    "    :param preference: 'low', 'medium', or 'high'\n",
    "    :param min_value: The minimum value for the criteria range\n",
    "    :param max_value: The maximum value for the criteria range\n",
    "    :return: Membership value between 0 and 1\n",
    "    \"\"\"\n",
    "    \n",
    "    def low_mf(x, a, b):\n",
    "        return np.where(x <= a, 1, max(0, (b - x) / (b - a)))\n",
    "    \n",
    "    def medium_mf(x, a, b, c):\n",
    "        return max(0, min((x - a) / (b - a), (c - x) / (c - b)))\n",
    "    \n",
    "    def high_mf(x, b, c):\n",
    "        return np.where(x >= c, 1, max(0, (x - b) / (c - b)))\n",
    "    \n",
    "    # Calculate the range\n",
    "    value_range = max_value - min_value\n",
    "    \n",
    "    # Set ratios for a, b, c based on the range\n",
    "    if preference == 'low':\n",
    "        a = min_value + 0.2 * value_range\n",
    "        b = min_value + 0.4 * value_range\n",
    "        return low_mf(criteria_value, a, b)\n",
    "    \n",
    "    elif preference == 'medium':\n",
    "        a = min_value + 0.3 * value_range\n",
    "        b = min_value + 0.5 * value_range\n",
    "        c = min_value + 0.7 * value_range\n",
    "        return medium_mf(criteria_value, a, b, c)\n",
    "    \n",
    "    elif preference == 'high':\n",
    "        b = min_value + 0.6 * value_range\n",
    "        c = min_value + 0.8 * value_range\n",
    "        return high_mf(criteria_value, b, c)\n",
    "    \n",
    "    else:\n",
    "        raise ValueError(\"Preference must be 'low', 'medium', or 'high'\")"
   ]
  },
  {
   "cell_type": "markdown",
   "id": "dce67d48-aca9-44fe-addb-bc551b1df271",
   "metadata": {},
   "source": [
    "#### 2. AHP Function"
   ]
  },
  {
   "cell_type": "code",
   "execution_count": 15,
   "id": "e2fe292e-b70b-435e-8429-4313d15a2078",
   "metadata": {},
   "outputs": [],
   "source": [
    "def ahp_weights_and_consistency(matrix):\n",
    "    \"\"\"\n",
    "    Calculate weights and Consistency Index for AHP pairwise comparison matrix.\n",
    "    \n",
    "    Args:\n",
    "    matrix (np.array): Square pairwise comparison matrix\n",
    "    \n",
    "    Returns:\n",
    "    tuple: (weights, consistency_index)\n",
    "    \"\"\"\n",
    "    # Check if the matrix is square\n",
    "    if matrix.shape[0] != matrix.shape[1]:\n",
    "        raise ValueError(\"Matrix must be square\")\n",
    "    \n",
    "    n = matrix.shape[0]\n",
    "    \n",
    "    # Calculate the principal eigenvalue and eigenvector\n",
    "    eigenvalues, eigenvectors = np.linalg.eig(matrix)\n",
    "    max_index = np.argmax(eigenvalues)\n",
    "    max_eigenvalue = eigenvalues[max_index].real\n",
    "    eigenvector = eigenvectors[:, max_index].real\n",
    "    \n",
    "    # Normalize the eigenvector to get the weights\n",
    "    weights = eigenvector / np.sum(eigenvector)\n",
    "    \n",
    "    # Calculate the Consistency Index\n",
    "    ci = (max_eigenvalue - n) / (n - 1)\n",
    "    \n",
    "    # Calculate the Random Index\n",
    "    ri_values = {1: 0, 2: 0, 3: 0.58, 4: 0.9, 5: 1.12, 6: 1.24, 7: 1.32, 8: 1.41, 9: 1.45, 10: 1.49}\n",
    "    ri = ri_values.get(n, 1.49)  # Use 1.49 for n > 10\n",
    "    \n",
    "    # Calculate the Consistency Ratio\n",
    "    cr = ci / ri if ri != 0 else 0\n",
    "    \n",
    "    return weights, ci, cr"
   ]
  },
  {
   "cell_type": "markdown",
   "id": "4f998588-692a-428a-97fc-16721608a3bb",
   "metadata": {},
   "source": [
    "#### 3. Weights Normalisation"
   ]
  },
  {
   "cell_type": "code",
   "execution_count": null,
   "id": "d47eb935-d633-4810-b9f3-fe62e9efb832",
   "metadata": {},
   "outputs": [],
   "source": []
  },
  {
   "cell_type": "markdown",
   "id": "d923a03c-3bec-45bb-91b0-86c41e654ec9",
   "metadata": {},
   "source": [
    "#### 4. Final Weights Calculation"
   ]
  },
  {
   "cell_type": "code",
   "execution_count": null,
   "id": "66297d93-8ff7-4b64-bfd5-c76cb1ca4bc8",
   "metadata": {},
   "outputs": [],
   "source": []
  },
  {
   "cell_type": "markdown",
   "id": "77ff1273-f181-4678-bfe6-1a51d9f44a55",
   "metadata": {},
   "source": [
    "#### 5. MEW"
   ]
  },
  {
   "cell_type": "code",
   "execution_count": 246,
   "id": "ae5fa8b6-4113-421a-9112-10d1e270a8f3",
   "metadata": {},
   "outputs": [],
   "source": [
    "def ahp_weights_and_consistency(matrix):\n",
    "    \"\"\"\n",
    "    Calculate weights and Consistency Index for AHP pairwise comparison matrix.\n",
    "    \n",
    "    Args:\n",
    "    matrix (np.array): Square pairwise comparison matrix\n",
    "    \n",
    "    Returns:\n",
    "    tuple: (weights, consistency_index)\n",
    "    \"\"\"\n",
    "    # Check if the matrix is square\n",
    "    if matrix.shape[0] != matrix.shape[1]:\n",
    "        raise ValueError(\"Matrix must be square\")\n",
    "    \n",
    "    n = matrix.shape[0]\n",
    "    \n",
    "    # Calculate the principal eigenvalue and eigenvector\n",
    "    eigenvalues, eigenvectors = np.linalg.eig(matrix)\n",
    "    max_index = np.argmax(eigenvalues)\n",
    "    max_eigenvalue = eigenvalues[max_index].real\n",
    "    eigenvector = eigenvectors[:, max_index].real\n",
    "    \n",
    "    # Normalize the eigenvector to get the weights\n",
    "    weights = eigenvector / np.sum(eigenvector)\n",
    "    \n",
    "    # Calculate the Consistency Index\n",
    "    ci = (max_eigenvalue - n) / (n - 1)\n",
    "    \n",
    "    # Calculate the Random Index\n",
    "    ri_values = {1: 0, 2: 0, 3: 0.58, 4: 0.9, 5: 1.12, 6: 1.24, 7: 1.32, 8: 1.41, 9: 1.45, 10: 1.49}\n",
    "    ri = ri_values.get(n, 1.49)  # Use 1.49 for n > 10\n",
    "    \n",
    "    # Calculate the Consistency Ratio\n",
    "    cr = ci / ri if ri != 0 else 0\n",
    "    \n",
    "    return weights, ci, cr"
   ]
  },
  {
   "cell_type": "markdown",
   "id": "e26d6dae-8cc8-42ba-8bcd-d8d4ef82c00f",
   "metadata": {},
   "source": [
    "#### 6. SAW"
   ]
  },
  {
   "cell_type": "code",
   "execution_count": 17,
   "id": "2e4f5e3f-31ee-48a6-aeee-b87de52da99c",
   "metadata": {},
   "outputs": [],
   "source": [
    "def calculate_saw_scores(decision_matrix, weights):\n",
    "    \"\"\"\n",
    "    Calculate scores using the Simple Additive Weighting (SAW) method.\n",
    "    \n",
    "    Parameters:\n",
    "    decision_matrix (numpy.ndarray): A normalized decision matrix where rows represent alternatives and columns represent criteria.\n",
    "    weights (numpy.ndarray): An array of weights for each criterion.\n",
    "    \n",
    "    Returns:\n",
    "    numpy.ndarray: An array of SAW scores for each alternative.\n",
    "    \"\"\"\n",
    "    \n",
    "    # Ensure inputs are numpy arrays\n",
    "    decision_matrix = np.array(decision_matrix)\n",
    "    weights = np.array(weights)\n",
    "    \n",
    "    # Check if the number of weights matches the number of criteria\n",
    "    if decision_matrix.shape[1] != weights.shape[0]:\n",
    "        raise ValueError(\"The number of weights must match the number of criteria (columns) in the decision matrix.\")\n",
    "    \n",
    "    # Calculate SAW scores\n",
    "    saw_scores = np.sum(decision_matrix * weights, axis=1)\n",
    "    \n",
    "    return saw_scores"
   ]
  },
  {
   "cell_type": "markdown",
   "id": "7fff5dee-6f9b-4e30-9258-c3918e7452e6",
   "metadata": {},
   "source": [
    "#### DATA"
   ]
  },
  {
   "cell_type": "code",
   "execution_count": null,
   "id": "c2640762-ed12-4078-a45e-2222b6b8459e",
   "metadata": {},
   "outputs": [],
   "source": []
  },
  {
   "cell_type": "code",
   "execution_count": null,
   "id": "f6a97160-eee0-49ba-9ad0-40f58681e9a1",
   "metadata": {},
   "outputs": [],
   "source": [
    "#import pandas as pd\n",
    "#import numpy as np\n",
    "#from ahp_weights_and_consistency import ahp_weights_and_consistency  # Import the function we created earlier\n",
    "\n",
    "def read_and_process_matrices(file_path):\n",
    "    # Read the CSV file\n",
    "    df = pd.read_csv(file_path, header=None)\n",
    "    \n",
    "    # Initialize variables\n",
    "    matrices = {}\n",
    "    current_service = None\n",
    "    current_matrix = []\n",
    "    \n",
    "    # Process the dataframe\n",
    "    for index, row in df.iterrows():\n",
    "        if pd.notna(row[0]) and pd.isna(row[1]):  # New service\n",
    "            if current_service and current_matrix:\n",
    "                matrices[current_service] = np.array(current_matrix)\n",
    "            current_service = row[0]\n",
    "            current_matrix = []\n",
    "        elif pd.notna(row[0]) and pd.notna(row[1]):  # Matrix row\n",
    "            current_matrix.append(row[1:5].astype(float).tolist())\n",
    "    \n",
    "    # Add the last matrix\n",
    "    if current_service and current_matrix:\n",
    "        matrices[current_service] = np.array(current_matrix)\n",
    "    \n",
    "    return matrices\n",
    "\n",
    "def display_and_calculate(matrices):\n",
    "    for service, matrix in matrices.items():\n",
    "        print(f\"\\nService: {service}\")\n",
    "        print(\"Matrix:\")\n",
    "        print(matrix)\n",
    "        \n",
    "        weights, ci, cr = ahp_weights_and_consistency(matrix)\n",
    "        \n",
    "        print(\"\\nResults:\")\n",
    "        print(f\"Weights: {weights}\")\n",
    "        print(f\"Consistency Index: {ci}\")\n",
    "        print(f\"Consistency Ratio: {cr}\")\n",
    "        print(f\"{'Consistent' if cr < 0.1 else 'Inconsistent'}\")\n",
    "        print(\"-\" * 50)\n",
    "\n",
    "# Main execution\n",
    "if __name__ == \"__main__\":\n",
    "    file_path = \"simulation_data/pairwise_matrices.csv\"  # Replace with your actual file path\n",
    "    matrices = read_and_process_matrices(file_path)\n",
    "    matrices\n",
    "    #display_and_calculate(matrices)"
   ]
  },
  {
   "cell_type": "code",
   "execution_count": 278,
   "id": "21390f8d-04d4-4658-9dc2-9d8a53bda734",
   "metadata": {},
   "outputs": [
    {
     "name": "stdout",
     "output_type": "stream",
     "text": [
      "                   0      1      2      3      4\n",
      "0               VoIP    NaN    NaN    NaN    NaN\n",
      "1           Criteria      D      J      L      T\n",
      "2                  D      1      5      3      7\n",
      "3                  J  0.200      1  0.333      3\n",
      "4                  L  0.333      3      1      5\n",
      "5                  T  0.143  0.333  0.200      1\n",
      "6                NaN    NaN    NaN    NaN    NaN\n",
      "7    Video Streaming    NaN    NaN    NaN    NaN\n",
      "8           Criteria      D      J      L      T\n",
      "9                  D      1      3  0.333  0.200\n",
      "10                 J  0.333      1  0.200  0.200\n",
      "11                 L      3      5      1  0.333\n",
      "12                 T      5      5      3      1\n",
      "13               NaN    NaN    NaN    NaN    NaN\n",
      "14      Cloud Gaming    NaN    NaN    NaN    NaN\n",
      "15          Criteria      D      J      L      T\n",
      "16                 D      1      3      5      7\n",
      "17                 J   0.33      1      3      5\n",
      "18                 L  0.200  0.333      1      3\n",
      "19                 T  0.143  0.200  0.333      1\n",
      "20               NaN    NaN    NaN    NaN    NaN\n",
      "21  equal_importance    NaN    NaN    NaN    NaN\n",
      "22          Criteria      D      J      L      T\n",
      "23                 D      1      1      1      1\n",
      "24                 J      1      1      1      1\n",
      "25                 L      1      1      1      1\n",
      "26                 T      1      1      1      1\n"
     ]
    }
   ],
   "source": [
    "#df.fillna(\"\", inplace = True)\n",
    "#df.drop(index=df.index[0], axis=0, inplace=True)\n",
    "#df = df[df.index.notnull()]\n",
    "\n",
    "df = pd.read_csv(file_path,header = None)\n",
    "print(df)\n",
    "df.dropna(inplace = True)"
   ]
  },
  {
   "cell_type": "code",
   "execution_count": 279,
   "id": "b4e16b30-567e-4854-82f4-714f4d4f04ac",
   "metadata": {},
   "outputs": [],
   "source": [
    "rows_per_matrix = len(df) // 4\n",
    "\n",
    "# Split the DataFrame into four parts\n",
    "df1 = df.iloc[:rows_per_matrix].iloc[1:5, 1:5]\n",
    "df2 = df.iloc[rows_per_matrix:2 * rows_per_matrix].iloc[1:5, 1:5]\n",
    "df3 = df.iloc[2 * rows_per_matrix:3 * rows_per_matrix].iloc[1:5, 1:5]\n",
    "df4 = df.iloc[3 * rows_per_matrix:].iloc[1:5, 1:5]\n",
    "\n",
    "voip = df1.values.astype(np.float64)\n",
    "video_stream = df2.values.astype(np.float64)\n",
    "cloud_gaming = df3.values.astype(np.float64)\n",
    "equal_import = df4.values.astype(np.float64)"
   ]
  },
  {
   "cell_type": "code",
   "execution_count": null,
   "id": "18c9de10-b8e6-4d71-b2bf-2cb56d56292d",
   "metadata": {},
   "outputs": [],
   "source": []
  },
  {
   "cell_type": "code",
   "execution_count": 275,
   "id": "5d6f8772-fea6-4ffc-93f2-d58d152b6f74",
   "metadata": {},
   "outputs": [],
   "source": []
  },
  {
   "cell_type": "code",
   "execution_count": null,
   "id": "69ed4b05-d190-4e6d-9103-fab8ee5efde3",
   "metadata": {},
   "outputs": [],
   "source": []
  },
  {
   "cell_type": "code",
   "execution_count": 255,
   "id": "db4b8417-44d2-43bd-9a0f-d9810600ea6c",
   "metadata": {},
   "outputs": [],
   "source": [
    "\n",
    "\n",
    "weights, ci, cr = ahp_weights_and_consistency(df1)\n",
    "        \n",
    "print(\"\\nResults:\")\n",
    "print(f\"Weights: {weights}\")\n",
    "print(f\"Consistency Index: {ci}\")\n",
    "print(f\"Consistency Ratio: {cr}\")\n",
    "print(f\"{'Consistent' if cr < 0.1 else 'Inconsistent'}\")\n",
    "print(\"-\" * 50)weights, ci, cr = ahp_weights_and_consistency(df1)\n",
    "        \n",
    "print(\"\\nResults:\")\n",
    "print(f\"Weights: {weights}\")\n",
    "print(f\"Consistency Index: {ci}\")\n",
    "print(f\"Consistency Ratio: {cr}\")\n",
    "print(f\"{'Consistent' if cr < 0.1 else 'Inconsistent'}\")\n",
    "print(\"-\" * 50)\n",
    "\n"
   ]
  },
  {
   "cell_type": "code",
   "execution_count": 272,
   "id": "004b1f97-6130-4fd9-b395-64d11365288a",
   "metadata": {},
   "outputs": [
    {
     "data": {
      "text/plain": [
       "array([[1.   , 5.   , 3.   , 7.   ],\n",
       "       [0.2  , 1.   , 0.333, 3.   ],\n",
       "       [0.333, 3.   , 1.   , 5.   ],\n",
       "       [0.143, 0.333, 0.2  , 1.   ]])"
      ]
     },
     "execution_count": 272,
     "metadata": {},
     "output_type": "execute_result"
    }
   ],
   "source": []
  },
  {
   "cell_type": "code",
   "execution_count": 262,
   "id": "9716c38c-1a02-4b50-bd18-d60489b7b05b",
   "metadata": {},
   "outputs": [],
   "source": []
  },
  {
   "cell_type": "code",
   "execution_count": 273,
   "id": "6bdd9f09-e273-4af3-bbcf-29d3772dcdcc",
   "metadata": {},
   "outputs": [
    {
     "data": {
      "text/plain": [
       "array([[1.   , 5.   , 3.   , 7.   ],\n",
       "       [0.2  , 1.   , 0.333, 3.   ],\n",
       "       [0.333, 3.   , 1.   , 5.   ],\n",
       "       [0.143, 0.333, 0.2  , 1.   ]])"
      ]
     },
     "execution_count": 273,
     "metadata": {},
     "output_type": "execute_result"
    }
   ],
   "source": []
  },
  {
   "cell_type": "code",
   "execution_count": null,
   "id": "97dc74fb-8b17-4da4-ab1c-9ceefa005988",
   "metadata": {},
   "outputs": [],
   "source": [
    "\n"
   ]
  },
  {
   "cell_type": "code",
   "execution_count": 264,
   "id": "c2ab9867-aace-4580-b201-e80c3f48c156",
   "metadata": {},
   "outputs": [
    {
     "name": "stdout",
     "output_type": "stream",
     "text": [
      "0.9\n",
      "\n",
      "Results:\n",
      "Weights: [0.56503178 0.1174953  0.26217276 0.05530016]\n",
      "Consistency Index: 0.038936217353653824\n",
      "Consistency Ratio: 0.04326246372628203\n",
      "Consistent\n",
      "--------------------------------------------------\n"
     ]
    }
   ],
   "source": [
    "weights, ci, cr = ahp_weights_and_consistency(voip)\n",
    "print(\"\\nResults:\")\n",
    "print(f\"Weights: {weights}\")\n",
    "print(f\"Consistency Index: {ci}\")\n",
    "print(f\"Consistency Ratio: {cr}\")\n",
    "print(f\"{'Consistent' if cr < 0.1 else 'Inconsistent'}\")\n",
    "print(\"-\" * 50)"
   ]
  },
  {
   "cell_type": "code",
   "execution_count": null,
   "id": "0d2e9d2e-23ff-48b1-8643-bc99679950d8",
   "metadata": {},
   "outputs": [],
   "source": []
  }
 ],
 "metadata": {
  "kernelspec": {
   "display_name": "Python 3 (ipykernel)",
   "language": "python",
   "name": "python3"
  },
  "language_info": {
   "codemirror_mode": {
    "name": "ipython",
    "version": 3
   },
   "file_extension": ".py",
   "mimetype": "text/x-python",
   "name": "python",
   "nbconvert_exporter": "python",
   "pygments_lexer": "ipython3",
   "version": "3.11.5"
  }
 },
 "nbformat": 4,
 "nbformat_minor": 5
}
