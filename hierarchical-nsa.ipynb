{
 "cells": [
  {
   "cell_type": "code",
   "execution_count": 1,
   "id": "b5d9267d-024e-46ec-8225-8c0c1a5667d4",
   "metadata": {},
   "outputs": [],
   "source": [
    "import numpy as np \n",
    "import pandas as pd"
   ]
  },
  {
   "cell_type": "markdown",
   "id": "8375fd59-7237-4440-b58a-020f2b5a57d4",
   "metadata": {},
   "source": [
    "#### Functions\n",
    "\n",
    "1. User-preferences Weights Calculations - Fuzzy Logic\n",
    "2. Service QoS Weights Calculations - AHP\n",
    "3. Weights Normalisation such ∑ w_i = 1\n",
    "4. Final Weights Calculation RAT layer\n",
    "5. MEW\n",
    "6. SAW"
   ]
  },
  {
   "cell_type": "markdown",
   "id": "02f524c1-d2ca-482f-aef2-045330fed6db",
   "metadata": {},
   "source": [
    "#### 1. Fuzzy Membership Funtion"
   ]
  },
  {
   "cell_type": "code",
   "execution_count": 194,
   "id": "ca28e724-90a6-4fb6-81ac-ed6a91ee1e88",
   "metadata": {},
   "outputs": [],
   "source": [
    "def fuzzy_membership(criteria_value, preference, min_value, max_value):\n",
    "    \"\"\"\n",
    "    Calculate the fuzzy membership value for a given criteria.\n",
    "    \n",
    "    :param criteria_value: The value of the criteria to evaluate\n",
    "    :param preference: 'low', 'medium', or 'high'\n",
    "    :param min_value: The minimum value for the criteria range\n",
    "    :param max_value: The maximum value for the criteria range\n",
    "    :return: Membership value between 0 and 1\n",
    "    \"\"\"\n",
    "    \n",
    "    def low_mf(x, b, c):\n",
    "        return np.where(x <= b, 1, max(0, (c - x) / (c - b)))\n",
    "    \n",
    "    def medium_mf(x, a, b, c):\n",
    "        return max(0, min((x - a) / (b - a), (c - x) / (c - b)))\n",
    "    \n",
    "    def high_mf(x, a, b):\n",
    "        return np.where(x >= b, 1, max(0, (x - a) / (b - a)))\n",
    "    \n",
    "    # Calculate the range\n",
    "    value_range = max_value - min_value\n",
    "\n",
    "    preference = preference.lower()\n",
    "    # Set ratios for a, b, c based on the range\n",
    "    if preference == 'low':\n",
    "        b = min_value + 0.25 * value_range\n",
    "        c = min_value + 0.5 * value_range\n",
    "        return low_mf(criteria_value, b, c)\n",
    "    \n",
    "    elif preference == 'medium':\n",
    "        a = min_value + 0.25 * value_range\n",
    "        b = min_value + 0.5 * value_range\n",
    "        c = min_value + 0.75 * value_range\n",
    "        return medium_mf(criteria_value, a, b, c)\n",
    "    \n",
    "    elif preference == 'high':\n",
    "        a = min_value + 0.5 * value_range\n",
    "        b = min_value + 0.75 * value_range\n",
    "        return high_mf(criteria_value, a, b)\n",
    "    \n",
    "    else:\n",
    "        raise ValueError(\"Preference must be 'low', 'medium', or 'high'\")"
   ]
  },
  {
   "cell_type": "code",
   "execution_count": 239,
   "id": "6a41090a-20d1-47c9-aab7-d6f84692dbd5",
   "metadata": {},
   "outputs": [],
   "source": [
    "def qos_to_no(preference: str) -> float:\n",
    "    \"\"\"\n",
    "    Convert a QoS preference string to its corresponding numerical value.\n",
    "    \n",
    "    Args:\n",
    "    preference (str): A string representing the QoS preference. \n",
    "                      Must be either \"Low\", \"Medium\", or \"High\" (case-insensitive).\n",
    "    \n",
    "    Returns:\n",
    "    float: The numerical value corresponding to the preference.\n",
    "    \n",
    "    Raises:\n",
    "    ValueError: If an invalid preference is provided.\n",
    "    \"\"\"\n",
    "    preference_map = {\n",
    "        \"low\": 0.2,\n",
    "        \"medium\": 0.5,\n",
    "        \"high\": 0.8\n",
    "    }\n",
    "    \n",
    "    normalized_preference = preference.lower()\n",
    "    \n",
    "    if normalized_preference not in preference_map:\n",
    "        raise ValueError(\"Invalid preference. Must be 'Low', 'Medium', or 'High'.\")\n",
    "    \n",
    "    return preference_map[normalized_preference]"
   ]
  },
  {
   "cell_type": "markdown",
   "id": "dce67d48-aca9-44fe-addb-bc551b1df271",
   "metadata": {},
   "source": [
    "#### 2. AHP Function"
   ]
  },
  {
   "cell_type": "code",
   "execution_count": 240,
   "id": "e2fe292e-b70b-435e-8429-4313d15a2078",
   "metadata": {},
   "outputs": [],
   "source": [
    "def ahp_weights(matrix):\n",
    "    \"\"\"\n",
    "    Calculate weights and Consistency Index for AHP pairwise comparison matrix.\n",
    "    \n",
    "    Args:\n",
    "    matrix (np.array): Square pairwise comparison matrix\n",
    "    \n",
    "    Returns:\n",
    "    tuple: (weights, consistency_index)\n",
    "    \"\"\"\n",
    "    # Check if the matrix is square\n",
    "    if matrix.shape[0] != matrix.shape[1]:\n",
    "        raise ValueError(\"Matrix must be square\")\n",
    "    \n",
    "    n = matrix.shape[0]\n",
    "    \n",
    "    # Calculate the principal eigenvalue and eigenvector\n",
    "    eigenvalues, eigenvectors = np.linalg.eig(matrix)\n",
    "    max_index = np.argmax(eigenvalues)\n",
    "    max_eigenvalue = eigenvalues[max_index].real\n",
    "    eigenvector = eigenvectors[:, max_index].real\n",
    "    \n",
    "    # Normalize the eigenvector to get the weights\n",
    "    weights = eigenvector / np.sum(eigenvector)\n",
    "    \n",
    "    # Calculate the Consistency Index\n",
    "    ci = (max_eigenvalue - n) / (n - 1)\n",
    "    \n",
    "    # Calculate the Random Index\n",
    "    ri_values = {1: 0, 2: 0, 3: 0.58, 4: 0.9, 5: 1.12, 6: 1.24, 7: 1.32, 8: 1.41, 9: 1.45, 10: 1.49}\n",
    "    ri = ri_values.get(n, 1.49)  # Use 1.49 for n > 10\n",
    "    \n",
    "    # Calculate the Consistency Ratio\n",
    "    cr = ci / ri if ri != 0 else 0\n",
    "    if cr >= 0.1:\n",
    "        raise ValueError(\"Not Consistent!\")\n",
    "    \n",
    "    return weights"
   ]
  },
  {
   "cell_type": "markdown",
   "id": "4f998588-692a-428a-97fc-16721608a3bb",
   "metadata": {},
   "source": [
    "#### 3. Weights Normalisation"
   ]
  },
  {
   "cell_type": "code",
   "execution_count": null,
   "id": "d47eb935-d633-4810-b9f3-fe62e9efb832",
   "metadata": {},
   "outputs": [],
   "source": []
  },
  {
   "cell_type": "markdown",
   "id": "d923a03c-3bec-45bb-91b0-86c41e654ec9",
   "metadata": {},
   "source": [
    "#### 4. Final Weights Calculation"
   ]
  },
  {
   "cell_type": "code",
   "execution_count": null,
   "id": "66297d93-8ff7-4b64-bfd5-c76cb1ca4bc8",
   "metadata": {},
   "outputs": [],
   "source": []
  },
  {
   "cell_type": "markdown",
   "id": "77ff1273-f181-4678-bfe6-1a51d9f44a55",
   "metadata": {},
   "source": [
    "#### 5. MEW"
   ]
  },
  {
   "cell_type": "code",
   "execution_count": 241,
   "id": "ae5fa8b6-4113-421a-9112-10d1e270a8f3",
   "metadata": {},
   "outputs": [
    {
     "name": "stdout",
     "output_type": "stream",
     "text": [
      "MEW Scores: [0.72184057 0.69568331 0.78690609]\n"
     ]
    }
   ],
   "source": [
    "import numpy as np\n",
    "\n",
    "def calculate_mew_scores(decision_matrix, weights):\n",
    "    \"\"\"\n",
    "    Calculate scores using the Multiple Exponen Weighted (MEW) method.\n",
    "    \n",
    "    Parameters:\n",
    "    decision_matrix (numpy.ndarray): A normalized decision matrix where rows represent alternatives and columns represent criteria.\n",
    "    weights (numpy.ndarray): An array of weights for each criterion.\n",
    "    \n",
    "    Returns:\n",
    "    numpy.ndarray: An array of MEW scores for each alternative.\n",
    "    \"\"\"\n",
    "    \n",
    "    # Ensure inputs are numpy arrays\n",
    "    decision_matrix = np.array(decision_matrix)\n",
    "    weights = np.array(weights)\n",
    "    \n",
    "    # Check if the number of weights matches the number of criteria\n",
    "    if decision_matrix.shape[1] != weights.shape[0]:\n",
    "        raise ValueError(\"The number of weights must match the number of criteria (columns) in the decision matrix.\")\n",
    "    \n",
    "    # Calculate MEW scores\n",
    "    weighted_matrix = np.power(decision_matrix, weights)\n",
    "    mew_scores = np.prod(weighted_matrix, axis=1)\n",
    "    \n",
    "    return mew_scores\n",
    "\n",
    "# Example usage\n",
    "if __name__ == \"__main__\":\n",
    "    # Example normalized decision matrix (3 alternatives, 4 criteria)\n",
    "    decision_matrix = np.array([\n",
    "        [0.7, 0.8, 0.6, 0.9],\n",
    "        [0.6, 0.7, 0.8, 0.7],\n",
    "        [0.8, 0.9, 0.7, 0.8]\n",
    "    ])\n",
    "    \n",
    "    # Example weights\n",
    "    weights = np.array([0.3, 0.2, 0.3, 0.2])\n",
    "    \n",
    "    # Calculate MEW scores\n",
    "    scores = calculate_mew_scores(decision_matrix, weights)\n",
    "    \n",
    "    print(\"MEW Scores:\", scores)"
   ]
  },
  {
   "cell_type": "markdown",
   "id": "e26d6dae-8cc8-42ba-8bcd-d8d4ef82c00f",
   "metadata": {},
   "source": [
    "#### 6. SAW"
   ]
  },
  {
   "cell_type": "code",
   "execution_count": 242,
   "id": "2e4f5e3f-31ee-48a6-aeee-b87de52da99c",
   "metadata": {},
   "outputs": [],
   "source": [
    "def calculate_saw_scores(decision_matrix, weights):\n",
    "    \"\"\"\n",
    "    Calculate scores using the Simple Additive Weighting (SAW) method.\n",
    "    \n",
    "    Parameters:\n",
    "    decision_matrix (numpy.ndarray): A normalized decision matrix where rows represent alternatives and columns represent criteria.\n",
    "    weights (numpy.ndarray): An array of weights for each criterion.\n",
    "    \n",
    "    Returns:\n",
    "    numpy.ndarray: An array of SAW scores for each alternative.\n",
    "    \"\"\"\n",
    "    \n",
    "    # Ensure inputs are numpy arrays\n",
    "    decision_matrix = np.array(decision_matrix)\n",
    "    weights = np.array(weights)\n",
    "    \n",
    "    # Check if the number of weights matches the number of criteria\n",
    "    if decision_matrix.shape[1] != weights.shape[0]:\n",
    "        raise ValueError(\"The number of weights must match the number of criteria (columns) in the decision matrix.\")\n",
    "    \n",
    "    # Calculate SAW scores\n",
    "    saw_scores = np.sum(decision_matrix * weights, axis=1)\n",
    "    \n",
    "    return saw_scores"
   ]
  },
  {
   "cell_type": "markdown",
   "id": "7fff5dee-6f9b-4e30-9258-c3918e7452e6",
   "metadata": {},
   "source": [
    "#### DATA"
   ]
  },
  {
   "cell_type": "code",
   "execution_count": 243,
   "id": "da5ed195-d7d2-4cb3-a799-a7b119ad7dbd",
   "metadata": {},
   "outputs": [],
   "source": [
    "file_path = \"simulation_data\""
   ]
  },
  {
   "cell_type": "markdown",
   "id": "d7ae9a87-dc31-41e2-bb25-e4254583618c",
   "metadata": {},
   "source": [
    "Decision Matrix"
   ]
  },
  {
   "cell_type": "code",
   "execution_count": 244,
   "id": "eb58539e-692c-43a9-8339-85cfcaae7c7b",
   "metadata": {},
   "outputs": [
    {
     "data": {
      "text/html": [
       "<div>\n",
       "<style scoped>\n",
       "    .dataframe tbody tr th:only-of-type {\n",
       "        vertical-align: middle;\n",
       "    }\n",
       "\n",
       "    .dataframe tbody tr th {\n",
       "        vertical-align: top;\n",
       "    }\n",
       "\n",
       "    .dataframe thead th {\n",
       "        text-align: right;\n",
       "    }\n",
       "</style>\n",
       "<table border=\"1\" class=\"dataframe\">\n",
       "  <thead>\n",
       "    <tr style=\"text-align: right;\">\n",
       "      <th></th>\n",
       "      <th>0</th>\n",
       "      <th>1</th>\n",
       "      <th>2</th>\n",
       "      <th>3</th>\n",
       "      <th>4</th>\n",
       "      <th>5</th>\n",
       "      <th>6</th>\n",
       "      <th>7</th>\n",
       "      <th>8</th>\n",
       "      <th>9</th>\n",
       "    </tr>\n",
       "  </thead>\n",
       "  <tbody>\n",
       "    <tr>\n",
       "      <th>0</th>\n",
       "      <td>Criteria</td>\n",
       "      <td>P</td>\n",
       "      <td>C</td>\n",
       "      <td>D</td>\n",
       "      <td>J</td>\n",
       "      <td>L</td>\n",
       "      <td>T</td>\n",
       "      <td>CL</td>\n",
       "      <td>CC</td>\n",
       "      <td>S</td>\n",
       "    </tr>\n",
       "    <tr>\n",
       "      <th>1</th>\n",
       "      <td>3G</td>\n",
       "      <td>800</td>\n",
       "      <td>10</td>\n",
       "      <td>20</td>\n",
       "      <td>10</td>\n",
       "      <td>1</td>\n",
       "      <td>0.03</td>\n",
       "      <td>1</td>\n",
       "      <td>70</td>\n",
       "      <td>10</td>\n",
       "    </tr>\n",
       "    <tr>\n",
       "      <th>2</th>\n",
       "      <td>4G</td>\n",
       "      <td>500</td>\n",
       "      <td>1</td>\n",
       "      <td>10</td>\n",
       "      <td>5</td>\n",
       "      <td>0.1</td>\n",
       "      <td>1</td>\n",
       "      <td>1</td>\n",
       "      <td>40</td>\n",
       "      <td>30</td>\n",
       "    </tr>\n",
       "    <tr>\n",
       "      <th>3</th>\n",
       "      <td>5G</td>\n",
       "      <td>300</td>\n",
       "      <td>0.1</td>\n",
       "      <td>1</td>\n",
       "      <td>1</td>\n",
       "      <td>0.01</td>\n",
       "      <td>20</td>\n",
       "      <td>1</td>\n",
       "      <td>20</td>\n",
       "      <td>30</td>\n",
       "    </tr>\n",
       "    <tr>\n",
       "      <th>4</th>\n",
       "      <td>6G</td>\n",
       "      <td>100</td>\n",
       "      <td>0.01</td>\n",
       "      <td>0.8</td>\n",
       "      <td>0.5</td>\n",
       "      <td>0.009</td>\n",
       "      <td>1000</td>\n",
       "      <td>1</td>\n",
       "      <td>0.5</td>\n",
       "      <td>40</td>\n",
       "    </tr>\n",
       "    <tr>\n",
       "      <th>5</th>\n",
       "      <td>LEO</td>\n",
       "      <td>1000</td>\n",
       "      <td>2</td>\n",
       "      <td>50</td>\n",
       "      <td>10</td>\n",
       "      <td>0.45</td>\n",
       "      <td>0.1</td>\n",
       "      <td>1</td>\n",
       "      <td>1000</td>\n",
       "      <td>15</td>\n",
       "    </tr>\n",
       "    <tr>\n",
       "      <th>6</th>\n",
       "      <td>NaN</td>\n",
       "      <td>down</td>\n",
       "      <td>down</td>\n",
       "      <td>down</td>\n",
       "      <td>down</td>\n",
       "      <td>down</td>\n",
       "      <td>up</td>\n",
       "      <td>down</td>\n",
       "      <td>up</td>\n",
       "      <td>up</td>\n",
       "    </tr>\n",
       "  </tbody>\n",
       "</table>\n",
       "</div>"
      ],
      "text/plain": [
       "          0     1     2     3     4      5     6     7     8   9\n",
       "0  Criteria     P     C    D      J      L     T    CL    CC   S\n",
       "1        3G   800    10    20    10      1  0.03     1    70  10\n",
       "2        4G   500     1    10     5    0.1     1     1    40  30\n",
       "3        5G   300   0.1     1     1   0.01    20     1    20  30\n",
       "4        6G   100  0.01   0.8   0.5  0.009  1000     1   0.5  40\n",
       "5      LEO   1000     2    50    10   0.45   0.1     1  1000  15\n",
       "6       NaN  down  down  down  down   down    up  down    up  up"
      ]
     },
     "execution_count": 244,
     "metadata": {},
     "output_type": "execute_result"
    }
   ],
   "source": [
    "df = pd.read_csv(file_path+\"/decision_matrix.csv\",header = None)\n",
    "df"
   ]
  },
  {
   "cell_type": "code",
   "execution_count": 245,
   "id": "a44a2674-b7c7-402a-a929-705049ab77d4",
   "metadata": {},
   "outputs": [],
   "source": [
    "dm_rat = df.iloc[1:6,1:7].values.astype(np.float64)\n",
    "dm_ap = df.iloc[1:6,7:11].values.astype(np.float64)"
   ]
  },
  {
   "cell_type": "markdown",
   "id": "d00aa003-ae1a-416c-b6d2-e52085745579",
   "metadata": {},
   "source": [
    "Service QoS Weights"
   ]
  },
  {
   "cell_type": "code",
   "execution_count": 264,
   "id": "21390f8d-04d4-4658-9dc2-9d8a53bda734",
   "metadata": {},
   "outputs": [],
   "source": [
    "df = pd.read_csv(file_path+\"/pairwise_matrices.csv\",header = None)\n",
    "df.dropna(inplace = True)\n",
    "\n",
    "services_weights = np.zeros((4,4)) # 4 services, 4 criteria\n",
    "\n",
    "rows_per_matrix = len(df) // 4\n",
    "\n",
    "for i in range(services_weights.shape[0]):\n",
    "    df_service = df.iloc[rows_per_matrix * i : (rows_per_matrix * (i+1))].iloc[1:5,1:5] # if i<3 else 0\n",
    "    services_weights[i] = ahp_weights(df_service.values.astype(np.float64))"
   ]
  },
  {
   "cell_type": "markdown",
   "id": "c247d92d-a901-48cb-901f-d4d15717d608",
   "metadata": {},
   "source": [
    "User Preferences Weights"
   ]
  },
  {
   "cell_type": "code",
   "execution_count": 250,
   "id": "18c9de10-b8e6-4d71-b2bf-2cb56d56292d",
   "metadata": {},
   "outputs": [],
   "source": [
    "df = pd.read_csv(file_path+\"/user_preferences.csv\", index_col = 0)\n",
    "users_prefs = df.values"
   ]
  },
  {
   "cell_type": "code",
   "execution_count": 205,
   "id": "d2fce88a-8d3b-4731-ae38-a40d958d87d7",
   "metadata": {},
   "outputs": [],
   "source": [
    "def pref_weights(criteria, user_prefs):\n",
    "    userpref_weights = np.zeros(3)\n",
    "    \n",
    "    userpref_weights[0] = qos_to_no(user_prefs[0])\n",
    "    userpref_weights[1] = fuzzy_membership(criteria[0],user_prefs[1],100,1000) #power range across alt 100-1000mW\n",
    "    userpref_weights[2] = fuzzy_membership(criteria[1],user_prefs[2],0.01,10) #price range across alt 0.01 - 10 $/Gb\n",
    "    return userpref_weights"
   ]
  },
  {
   "cell_type": "code",
   "execution_count": 269,
   "id": "9eba5fd3-be57-483d-bc3f-19cffedd365b",
   "metadata": {},
   "outputs": [
    {
     "data": {
      "text/plain": [
       "array([0.2, 0.0, 0.0], dtype=object)"
      ]
     },
     "execution_count": 269,
     "metadata": {},
     "output_type": "execute_result"
    }
   ],
   "source": [
    "def userspref_weights(criteria, users_prefs): # returns a matrix of weights user [1...U] x prefs [Q,P,C]\n",
    "    userspref_weights = np.zeros_like(users_prefs)\n",
    "    #print(userspref_weights)\n",
    "    for i in range(users_prefs.shape[0]):\n",
    "        userspref_weights[i] = pref_weights(criteria[:2],users_prefs[i])\n",
    "        #print(pref_weights(criteria[:2],users_prefs[i]))\n",
    "        #print(userpref_weights[i])\n",
    "    return userspref_weights\n",
    "\n",
    "asf = userspref_weights(dm_rat[0], users_prefs)\n",
    "\n",
    "asf[1]\n",
    "asf[]"
   ]
  },
  {
   "cell_type": "code",
   "execution_count": 270,
   "id": "b685c01e-8738-41c8-a7a3-1ab52749aabb",
   "metadata": {},
   "outputs": [],
   "source": [
    "def qos_nomarlisation(user_weights, service_weights):\n",
    "    normal_uw = user_weights[1:] if np.sum(user_weights[1:]) <= 0 else user_weights[1:]/np.sum(user_weights[1:])\n",
    "    return np.concatenate((normal_uw * (1 - user_weights[0]) , service_weights * user_weights[0]))\n",
    "\n",
    "\n",
    "#userspref_weights(dm_rat[0],users_prefs)[1][1:]\n",
    "\n",
    "#uw = np.array([0.5,0.4,0.8])\n",
    "#sw = np.array([0.2,0.4,0.1,0.3])\n",
    "#qos_nomarlisation(uw,sw)"
   ]
  },
  {
   "cell_type": "code",
   "execution_count": 273,
   "id": "787edd08-2aed-4c8c-acea-c4af9fd9d198",
   "metadata": {},
   "outputs": [],
   "source": [
    "def users_service_weights(criteria, users_prefs, services_weights):\n",
    "    weights = np.zeros((27,4,6))\n",
    "    p_and_c = criteria[:2]\n",
    "\n",
    "    usersprefs_w = userspref_weights(p_and_c, users_prefs) # 27x3 matrix of weights\n",
    "    for i in range(27):\n",
    "        for j in range(4):\n",
    "            weights[i][j] = qos_nomarlisation(usersprefs_w[i],services_weights[j])\n",
    "    return weights"
   ]
  },
  {
   "cell_type": "code",
   "execution_count": 275,
   "id": "aff14bef-628e-4fed-b740-40577a0fd0af",
   "metadata": {},
   "outputs": [
    {
     "data": {
      "text/plain": [
       "array([[0.        , 0.        , 0.11300636, 0.02349906, 0.05243455,\n",
       "        0.01106003],\n",
       "       [0.        , 0.        , 0.02438016, 0.01272753, 0.05410509,\n",
       "        0.10878722],\n",
       "       [0.        , 0.        , 0.11304389, 0.05237821, 0.02351262,\n",
       "        0.01106529],\n",
       "       [0.        , 0.        , 0.05      , 0.05      , 0.05      ,\n",
       "        0.05      ]])"
      ]
     },
     "execution_count": 275,
     "metadata": {},
     "output_type": "execute_result"
    }
   ],
   "source": [
    "#for rat_criteria in dm_rat:\n",
    "users_service_weights(dm_rat[0],users_prefs,services_weights)[][]    \n"
   ]
  },
  {
   "cell_type": "code",
   "execution_count": null,
   "id": "d212fd1b-0181-41ea-b373-18d30c063352",
   "metadata": {},
   "outputs": [],
   "source": []
  }
 ],
 "metadata": {
  "kernelspec": {
   "display_name": "Python 3 (ipykernel)",
   "language": "python",
   "name": "python3"
  },
  "language_info": {
   "codemirror_mode": {
    "name": "ipython",
    "version": 3
   },
   "file_extension": ".py",
   "mimetype": "text/x-python",
   "name": "python",
   "nbconvert_exporter": "python",
   "pygments_lexer": "ipython3",
   "version": "3.11.5"
  }
 },
 "nbformat": 4,
 "nbformat_minor": 5
}
