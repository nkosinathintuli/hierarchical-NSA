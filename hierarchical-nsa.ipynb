{
 "cells": [
  {
   "cell_type": "code",
   "execution_count": 81,
   "id": "b5d9267d-024e-46ec-8225-8c0c1a5667d4",
   "metadata": {},
   "outputs": [],
   "source": [
    "import numpy as np;\n",
    "import pandas as pd;\n",
    "import matplotlib.pyplot as plt"
   ]
  },
  {
   "cell_type": "markdown",
   "id": "8375fd59-7237-4440-b58a-020f2b5a57d4",
   "metadata": {},
   "source": [
    "#### Functions\n",
    "\n",
    "1. User-preferences Weights Calculations - Fuzzy Logic\n",
    "2. Service QoS Weights Calculations - AHP\n",
    "3. Normalisation \n",
    "4. Final Weights Calculation RAT layer\n",
    "5. MEW\n",
    "6. SAW"
   ]
  },
  {
   "cell_type": "markdown",
   "id": "02f524c1-d2ca-482f-aef2-045330fed6db",
   "metadata": {},
   "source": [
    "#### 1. Fuzzy Membership Funtion"
   ]
  },
  {
   "cell_type": "code",
   "execution_count": 82,
   "id": "ca28e724-90a6-4fb6-81ac-ed6a91ee1e88",
   "metadata": {},
   "outputs": [],
   "source": [
    "def fuzzy_membership(criteria_value, preference, min_value, max_value):\n",
    "    \"\"\"\n",
    "    Calculate the fuzzy membership value for a given criteria.\n",
    "    \n",
    "    :param criteria_value: The value of the criteria to evaluate\n",
    "    :param preference: 'low', 'medium', or 'high'\n",
    "    :param min_value: The minimum value for the criteria range\n",
    "    :param max_value: The maximum value for the criteria range\n",
    "    :return: Membership value between 0 and 1\n",
    "    \"\"\"\n",
    "    \n",
    "    def low_mf(x, b, c):\n",
    "        return np.where(x <= b, 1, max(0, (c - x) / (c - b)))\n",
    "    \n",
    "    def medium_mf(x, a, b, c):\n",
    "        return max(0, min((x - a) / (b - a), (c - x) / (c - b)))\n",
    "    \n",
    "    def high_mf(x, a, b):\n",
    "        return np.where(x >= b, 1, max(0, (x - a) / (b - a)))\n",
    "    \n",
    "    # Calculate the range\n",
    "    value_range = max_value - min_value\n",
    "\n",
    "    preference = preference.lower()\n",
    "    # Set ratios for a, b, c based on the range\n",
    "    if preference == 'low':\n",
    "        b = min_value + 0.25 * value_range\n",
    "        c = min_value + 0.5 * value_range\n",
    "        return low_mf(criteria_value, b, c)\n",
    "    \n",
    "    elif preference == 'medium':\n",
    "        a = min_value + 0.25 * value_range\n",
    "        b = min_value + 0.5 * value_range\n",
    "        c = min_value + 0.75 * value_range\n",
    "        return medium_mf(criteria_value, a, b, c)\n",
    "    \n",
    "    elif preference == 'high':\n",
    "        a = min_value + 0.5 * value_range\n",
    "        b = min_value + 0.75 * value_range\n",
    "        return high_mf(criteria_value, a, b)\n",
    "    \n",
    "    else:\n",
    "        raise ValueError(\"Preference must be 'low', 'medium', or 'high'\")"
   ]
  },
  {
   "cell_type": "code",
   "execution_count": 83,
   "id": "6a41090a-20d1-47c9-aab7-d6f84692dbd5",
   "metadata": {},
   "outputs": [],
   "source": [
    "def qos_to_no(preference: str) -> float:\n",
    "    \"\"\"\n",
    "    Convert a QoS preference string to its corresponding numerical value.\n",
    "    \n",
    "    Args:\n",
    "    preference (str): A string representing the QoS preference. \n",
    "                      Must be either \"Low\", \"Medium\", or \"High\" (case-insensitive).\n",
    "    \n",
    "    Returns:\n",
    "    float: The numerical value corresponding to the preference.\n",
    "    \n",
    "    Raises:\n",
    "    ValueError: If an invalid preference is provided.\n",
    "    \"\"\"\n",
    "    preference_map = {\n",
    "        \"low\": 0.01,\n",
    "        \"medium\": 0.50,\n",
    "        \"high\": 0.99\n",
    "    }\n",
    "    \n",
    "    normalized_preference = preference.lower()\n",
    "    \n",
    "    if normalized_preference not in preference_map:\n",
    "        raise ValueError(\"Invalid preference. Must be 'Low', 'Medium', or 'High'.\")\n",
    "    \n",
    "    return preference_map[normalized_preference]"
   ]
  },
  {
   "cell_type": "markdown",
   "id": "dce67d48-aca9-44fe-addb-bc551b1df271",
   "metadata": {},
   "source": [
    "#### 2. AHP Function"
   ]
  },
  {
   "cell_type": "code",
   "execution_count": 84,
   "id": "e2fe292e-b70b-435e-8429-4313d15a2078",
   "metadata": {},
   "outputs": [],
   "source": [
    "def ahp_weights(matrix):\n",
    "    \"\"\"\n",
    "    Calculate weights and Consistency Index for AHP pairwise comparison matrix.\n",
    "    \n",
    "    Args:\n",
    "    matrix (np.array): Square pairwise comparison matrix\n",
    "    \n",
    "    Returns:\n",
    "    tuple: (weights, consistency_index)\n",
    "    \"\"\"\n",
    "    # Check if the matrix is square\n",
    "    if matrix.shape[0] != matrix.shape[1]:\n",
    "        raise ValueError(\"Matrix must be square\")\n",
    "    \n",
    "    n = matrix.shape[0]\n",
    "    \n",
    "    # Calculate the principal eigenvalue and eigenvector\n",
    "    eigenvalues, eigenvectors = np.linalg.eig(matrix)\n",
    "    max_index = np.argmax(eigenvalues)\n",
    "    max_eigenvalue = eigenvalues[max_index].real\n",
    "    eigenvector = eigenvectors[:, max_index].real\n",
    "    \n",
    "    # Normalize the eigenvector to get the weights\n",
    "    weights = eigenvector / np.sum(eigenvector)\n",
    "    \n",
    "    # Calculate the Consistency Index\n",
    "    ci = (max_eigenvalue - n) / (n - 1)\n",
    "    \n",
    "    # Calculate the Random Index\n",
    "    ri_values = {1: 0, 2: 0, 3: 0.58, 4: 0.9, 5: 1.12, 6: 1.24, 7: 1.32, 8: 1.41, 9: 1.45, 10: 1.49}\n",
    "    ri = ri_values.get(n, 1.49)  # Use 1.49 for n > 10\n",
    "    \n",
    "    # Calculate the Consistency Ratio\n",
    "    cr = ci / ri if ri != 0 else 0\n",
    "    if cr >= 0.1:\n",
    "        raise ValueError(\"Not Consistent!\")\n",
    "    \n",
    "    return weights"
   ]
  },
  {
   "cell_type": "markdown",
   "id": "4f998588-692a-428a-97fc-16721608a3bb",
   "metadata": {},
   "source": [
    "#### 3. Normalisation"
   ]
  },
  {
   "cell_type": "code",
   "execution_count": 85,
   "id": "d47eb935-d633-4810-b9f3-fe62e9efb832",
   "metadata": {},
   "outputs": [],
   "source": [
    "def square_root_normalize(matrix, criteria_types):\n",
    "    \"\"\"\n",
    "    Normalize the matrix using square root normalization,\n",
    "    accounting for upward and downward criteria.\n",
    "    \n",
    "    :param matrix: numpy array of shape (n_rats, n_criteria)\n",
    "    :param criteria_types: list of strings, either 'up' or 'down' for each criterion\n",
    "    :return: normalized matrix\n",
    "    \"\"\"\n",
    "    normalized = np.zeros_like(matrix, dtype=float)\n",
    "    \n",
    "    for j in range(matrix.shape[1]):\n",
    "        if criteria_types[j] == 'up':\n",
    "            normalized[:, j] = matrix[:, j] / np.sqrt(np.sum(matrix[:, j]**2))\n",
    "        elif criteria_types[j] == 'down':\n",
    "            normalized[:, j] = 1 - (matrix[:, j] / np.sqrt(np.sum(matrix[:, j]**2)))\n",
    "        else:\n",
    "            raise ValueError(f\"Invalid criterion type: {criteria_types[j]}. Must be 'up' or 'down'.\")\n",
    "    \n",
    "    return normalized\n",
    "\n",
    "def normalize_rat_criteria(matrix, criteria_types):\n",
    "    \"\"\"\n",
    "    Normalize RAT criteria matrix using Max-Min function.\n",
    "    \n",
    "    :param matrix: 2D numpy array where each row represents a RAT and each column a criterion\n",
    "    :param criteria_types: List of strings ('up' or 'down') indicating whether each criterion is upward or downward\n",
    "    :return: Normalized matrix\n",
    "    \"\"\"\n",
    "    normalized = np.zeros_like(matrix, dtype=float)\n",
    "    \n",
    "    for j in range(matrix.shape[1]):\n",
    "        column = matrix[:, j]\n",
    "        col_min, col_max = np.min(column), np.max(column)\n",
    "        \n",
    "        if criteria_types[j] == 'up':\n",
    "            normalized[:, j] = 1 - abs(column - col_max) / (col_max - col_min)\n",
    "        elif criteria_types[j] == 'down':\n",
    "            normalized[:, j] = 1 - abs(column - col_min) / (col_max - col_min)\n",
    "        else:\n",
    "            raise ValueError(f\"Invalid criterion type for column {j}. Must be 'up' or 'down'.\")\n",
    "    \n",
    "    return normalized"
   ]
  },
  {
   "cell_type": "markdown",
   "id": "d923a03c-3bec-45bb-91b0-86c41e654ec9",
   "metadata": {},
   "source": [
    "#### 4. Final Weights Calculation"
   ]
  },
  {
   "cell_type": "markdown",
   "id": "77ff1273-f181-4678-bfe6-1a51d9f44a55",
   "metadata": {},
   "source": [
    "#### 5. MEW"
   ]
  },
  {
   "cell_type": "code",
   "execution_count": 86,
   "id": "286feed1",
   "metadata": {},
   "outputs": [],
   "source": [
    "def mew_scores(decision_matrix, weights):\n",
    "    \"\"\"\n",
    "    Calculate scores using the Multiple Exponen Weighted (MEW) method.\n",
    "    \n",
    "    Parameters:\n",
    "    decision_matrix (numpy.ndarray): A normalized decision matrix where rows represent alternatives and columns represent criteria.\n",
    "    weights (numpy.ndarray): An array of weights for each criterion.\n",
    "    \n",
    "    Returns:\n",
    "    numpy.ndarray: An array of MEW scores for each alternative.\n",
    "    \"\"\"\n",
    "    \n",
    "    # Ensure inputs are numpy arrays\n",
    "    decision_matrix = np.array(decision_matrix)\n",
    "    weights = np.array(weights)\n",
    "    \n",
    "    # Check if the number of weights matches the number of criteria\n",
    "    if decision_matrix.shape[1] != weights.shape[0]:\n",
    "        raise ValueError(\"The number of weights must match the number of criteria (columns) in the decision matrix.\")\n",
    "    \n",
    "    # Calculate MEW scores\n",
    "    weighted_matrix = np.power(decision_matrix, weights)\n",
    "    mew_scores = np.prod(weighted_matrix, axis=1)\n",
    "    \n",
    "    return mew_scores"
   ]
  },
  {
   "cell_type": "code",
   "execution_count": 87,
   "id": "ae5fa8b6-4113-421a-9112-10d1e270a8f3",
   "metadata": {},
   "outputs": [],
   "source": [
    "def modified_mew_scores(decision_matrix, weights_matrix):\n",
    "    \"\"\"\n",
    "    Calculate scores using the Multiple Exponential Weighted (MEW) method with individual weights for each alternative.\n",
    "    \n",
    "    Parameters:\n",
    "    decision_matrix (numpy.ndarray): A normalized decision matrix where rows represent alternatives and columns represent criteria.\n",
    "    weights_matrix (numpy.ndarray): A matrix of weights where each row corresponds to weights for the respective alternative.\n",
    "    \n",
    "    Returns:\n",
    "    numpy.ndarray: An array of MEW scores for each alternative.\n",
    "    \"\"\"\n",
    "    \n",
    "    # Ensure inputs are numpy arrays\n",
    "    decision_matrix = np.array(decision_matrix)\n",
    "    weights_matrix = np.array(weights_matrix)\n",
    "    \n",
    "    # Check if the dimensions of the decision matrix and weights matrix match\n",
    "    if decision_matrix.shape != weights_matrix.shape:\n",
    "        raise ValueError(\"The dimensions of the decision matrix and weights matrix must match.\")\n",
    "    \n",
    "    # Calculate MEW scores\n",
    "    weighted_matrix = np.power(decision_matrix, weights_matrix)\n",
    "    mew_scores = np.prod(weighted_matrix, axis=1)\n",
    "    \n",
    "    return mew_scores"
   ]
  },
  {
   "cell_type": "markdown",
   "id": "e26d6dae-8cc8-42ba-8bcd-d8d4ef82c00f",
   "metadata": {},
   "source": [
    "#### 6. SAW"
   ]
  },
  {
   "cell_type": "code",
   "execution_count": 88,
   "id": "2e4f5e3f-31ee-48a6-aeee-b87de52da99c",
   "metadata": {},
   "outputs": [],
   "source": [
    "def calculate_saw_scores(decision_matrix, weights):\n",
    "    \"\"\"\n",
    "    Calculate scores using the Simple Additive Weighting (SAW) method.\n",
    "    \n",
    "    Parameters:\n",
    "    decision_matrix (numpy.ndarray): A normalized decision matrix where rows represent alternatives and columns represent criteria.\n",
    "    weights (numpy.ndarray): An array of weights for each criterion.\n",
    "    \n",
    "    Returns:\n",
    "    numpy.ndarray: An array of SAW scores for each alternative.\n",
    "    \"\"\"\n",
    "    \n",
    "    # Ensure inputs are numpy arrays\n",
    "    decision_matrix = np.array(decision_matrix)\n",
    "    weights = np.array(weights)\n",
    "    \n",
    "    # Check if the number of weights matches the number of criteria\n",
    "    if decision_matrix.shape[1] != weights.shape[0]:\n",
    "        raise ValueError(\"The number of weights must match the number of criteria (columns) in the decision matrix.\")\n",
    "    \n",
    "    # Calculate SAW scores\n",
    "    saw_scores = np.sum(decision_matrix * weights, axis=1)\n",
    "    \n",
    "    return saw_scores"
   ]
  },
  {
   "cell_type": "markdown",
   "id": "7fff5dee-6f9b-4e30-9258-c3918e7452e6",
   "metadata": {},
   "source": [
    "#### DATA"
   ]
  },
  {
   "cell_type": "code",
   "execution_count": 89,
   "id": "da5ed195-d7d2-4cb3-a799-a7b119ad7dbd",
   "metadata": {},
   "outputs": [],
   "source": [
    "file_path = \"simulation_data\""
   ]
  },
  {
   "cell_type": "markdown",
   "id": "d7ae9a87-dc31-41e2-bb25-e4254583618c",
   "metadata": {},
   "source": [
    "Decision Matrix"
   ]
  },
  {
   "cell_type": "code",
   "execution_count": 90,
   "id": "eb58539e-692c-43a9-8339-85cfcaae7c7b",
   "metadata": {},
   "outputs": [],
   "source": [
    "df = pd.read_csv(file_path+\"/decision_matrix.csv\",header = None)\n",
    "P_max = np.max(df[1][1:6].values.astype(np.float64))\n",
    "P_min = np.min(df[1][1:6].values.astype(np.float64))\n",
    "C_max = np.max(df[2][1:6].values.astype(np.float64))\n",
    "C_min = np.min(df[2][1:6].values.astype(np.float64))\n",
    "\n",
    "#print(P_max, P_min, C_max, C_min)"
   ]
  },
  {
   "cell_type": "code",
   "execution_count": 91,
   "id": "a44a2674-b7c7-402a-a929-705049ab77d4",
   "metadata": {},
   "outputs": [],
   "source": [
    "RATs = df[0][1:6].values\n",
    "\n",
    "criteria_types = df.iloc[6:,1:].values[0]\n",
    "\n",
    "dm_rat = df.iloc[1:6,1:7].values.astype(np.float64)\n",
    "dm_ap = df.iloc[1:6,7:11].values.astype(np.float64)\n",
    "\n",
    "\n",
    "normal_dm_rat = square_root_normalize(dm_rat, criteria_types[:6])"
   ]
  },
  {
   "cell_type": "markdown",
   "id": "d00aa003-ae1a-416c-b6d2-e52085745579",
   "metadata": {},
   "source": [
    "Service QoS Weights"
   ]
  },
  {
   "cell_type": "code",
   "execution_count": 92,
   "id": "21390f8d-04d4-4658-9dc2-9d8a53bda734",
   "metadata": {},
   "outputs": [],
   "source": [
    "df = pd.read_csv(file_path+\"/pairwise_matrices.csv\",header = None)\n",
    "services = df[0].iloc[[0, 7, 14, 21]].values\n",
    "\n",
    "df.dropna(inplace = True)\n",
    "\n",
    "services_weights = np.zeros((4,4)) # 4 services, 4 criteria\n",
    "\n",
    "rows_per_matrix = len(df) // 4\n",
    "\n",
    "for i in range(services_weights.shape[0]):\n",
    "    df_service = df.iloc[rows_per_matrix * i : (rows_per_matrix * (i+1))].iloc[1:5,1:5] # if i<3 else 0\n",
    "    services_weights[i] = ahp_weights(df_service.values.astype(np.float64))\n",
    "\n"
   ]
  },
  {
   "cell_type": "markdown",
   "id": "c247d92d-a901-48cb-901f-d4d15717d608",
   "metadata": {},
   "source": [
    "User Preferences Weights"
   ]
  },
  {
   "cell_type": "code",
   "execution_count": 93,
   "id": "18c9de10-b8e6-4d71-b2bf-2cb56d56292d",
   "metadata": {},
   "outputs": [],
   "source": [
    "df = pd.read_csv(file_path+\"/user_preferences.csv\", index_col = 0)\n",
    "users_prefs = df.values"
   ]
  },
  {
   "cell_type": "code",
   "execution_count": 94,
   "id": "d2fce88a-8d3b-4731-ae38-a40d958d87d7",
   "metadata": {},
   "outputs": [],
   "source": [
    "def pref_weights(criteria, user_prefs):\n",
    "    userpref_weights = np.zeros(3)\n",
    "    userpref_weights[0] = qos_to_no(user_prefs[0])\n",
    "    userpref_weights[1] = fuzzy_membership(criteria[0],user_prefs[1],P_min,P_max)\n",
    "    userpref_weights[2] = fuzzy_membership(criteria[1],user_prefs[2],C_min,C_max) #price range across alt 0.01 - 10 $/Gb\n",
    "    return userpref_weights"
   ]
  },
  {
   "cell_type": "code",
   "execution_count": 95,
   "id": "9eba5fd3-be57-483d-bc3f-19cffedd365b",
   "metadata": {},
   "outputs": [],
   "source": [
    "def userspref_weights(criteria, users_prefs): # returns a matrix of weights user [1...U] x prefs [Q,P,C]\n",
    "    userspref_weights = np.zeros_like(users_prefs)\n",
    "    #print(userspref_weights)\n",
    "    for i in range(users_prefs.shape[0]):\n",
    "        userspref_weights[i] = pref_weights(criteria[:2],users_prefs[i])\n",
    "        #print(pref_weights(criteria[:2],users_prefs[i]))\n",
    "        #print(userpref_weights[i])\n",
    "    return userspref_weights #27x3 "
   ]
  },
  {
   "cell_type": "code",
   "execution_count": 96,
   "id": "b685c01e-8738-41c8-a7a3-1ab52749aabb",
   "metadata": {},
   "outputs": [],
   "source": [
    "def qos_nomarlisation(user_weights, service_weights):\n",
    "    normal_uw = user_weights[1:] if np.sum(user_weights[1:]) <= 0 else user_weights[1:]/np.sum(user_weights[1:])\n",
    "    return np.concatenate((normal_uw * (1 - user_weights[0]) , service_weights * user_weights[0]))"
   ]
  },
  {
   "cell_type": "code",
   "execution_count": 97,
   "id": "787edd08-2aed-4c8c-acea-c4af9fd9d198",
   "metadata": {},
   "outputs": [],
   "source": [
    "def users_service_weights(criteria, users_prefs, services_weights):\n",
    "    weights = np.zeros((27,4,6))\n",
    "    p_and_c = criteria[:2]\n",
    "\n",
    "    usersprefs_w = userspref_weights(p_and_c, users_prefs) # 27x3 matrix of weights\n",
    "    for i in range(27):\n",
    "        for j in range(4):\n",
    "            weights[i][j] = qos_nomarlisation(usersprefs_w[i],services_weights[j])\n",
    "    return weights # comprehisive weights for each user per service"
   ]
  },
  {
   "cell_type": "code",
   "execution_count": 98,
   "id": "aff14bef-628e-4fed-b740-40577a0fd0af",
   "metadata": {},
   "outputs": [],
   "source": [
    "def rat_users_weights(rat_matrix, users_prefs, services_weights, service):\n",
    "\n",
    "    rat_user_weights =  np.zeros((5,27,6))\n",
    "\n",
    "    for i in range(5):# for each RAT compute the user weights for each user 5x27    \n",
    "        rat_user_weights[i] = users_service_weights(rat_matrix[i],users_prefs,services_weights)[:, service, :] # service 1 at index 0\n",
    "        #print(rat_user_weights[0])\n",
    "        #print(users_service_weights(dm_rat[i],users_prefs,services_weights)[:, 0, :])\n",
    "    return rat_user_weights # 5x27x6"
   ]
  },
  {
   "cell_type": "markdown",
   "id": "80ca1a74",
   "metadata": {},
   "source": [
    "Investigating the distribution of the 27 unique users across the RATs"
   ]
  },
  {
   "cell_type": "code",
   "execution_count": 99,
   "id": "ab841183-4557-489b-b7c7-63992e03d02a",
   "metadata": {},
   "outputs": [],
   "source": [
    "rank_1_freq = np.zeros((4,5), dtype=np.int64)\n",
    "\n",
    "for i in range(services.size):\n",
    "    scores = np.zeros((27,5))\n",
    "    rat_user_weights = rat_users_weights(dm_rat, users_prefs, services_weights, i) \n",
    "\n",
    "    for j in range(27):\n",
    "        scores[j] = modified_mew_scores(normal_dm_rat, rat_user_weights[:,j,:]) # 27x5 \n",
    "        rank_1_freq[i] += scores[j]==np.max(scores[j])\n",
    "        #print((scores[i]==np.max(scores[i])))\n",
    "        #print(scores[i])\n",
    "\n",
    "\n",
    "df_user_per_rat = pd.DataFrame(rank_1_freq, columns=RATs, index=services)\n"
   ]
  },
  {
   "cell_type": "code",
   "execution_count": 100,
   "id": "6f49f44f",
   "metadata": {},
   "outputs": [],
   "source": [
    "# plt.pie(rank_1_freq, labels=RATs, autopct='%1.1f%%')\n",
    "# plt.title('Distribution of Users Across Networks')\n",
    "# plt.show()\n",
    "\n",
    "# fig, axes = plt.subplots(nrows=2, ncols=2, figsize=(10, 8))\n",
    "\n",
    "# for i, service in enumerate(services):\n",
    "#     row = i // 2\n",
    "#     col = i % 2\n",
    "#     ax = axes[row, col]\n",
    "\n",
    "#     # Extract data for the current service\n",
    "#     network_names = RATs\n",
    "#     user_counts = rank_1_freq[i]\n",
    "\n",
    "#     # Create the pie chart\n",
    "#     ax.pie(user_counts, labels=network_names, autopct='%1.1f%%')\n",
    "#     ax.set_title(f'{service}')\n",
    "\n",
    "# plt.tight_layout()\n",
    "# plt.show()"
   ]
  },
  {
   "cell_type": "markdown",
   "id": "c8287b34",
   "metadata": {},
   "source": [
    "Investigating the RAT rankings per service type"
   ]
  },
  {
   "cell_type": "code",
   "execution_count": 125,
   "id": "3b5c5fe7",
   "metadata": {},
   "outputs": [],
   "source": [
    "user_weights = [0.5,0.5,0.5] # equal weights for each user preference criteria\n",
    "# services_weights\n",
    "weights_for_services = np.zeros((4,6))\n",
    "\n",
    "for i in range(4):\n",
    "    weights_for_services[i] = qos_nomarlisation(user_weights,services_weights[i])\n",
    "\n",
    "\n",
    "weights_for_services.shape\n",
    "RAT_scores = np.zeros((4,5)) # 4 services, 5 RATs\n",
    "\n",
    "for i in range(4):\n",
    "    RAT_scores[i] = mew_scores(normal_dm_rat, weights_for_services[i])\n",
    "\n",
    "ranks = np.zeros((4,5), dtype=np.int64)\n",
    "for i in range(4): \n",
    "    ranks[i] = np.argsort(RAT_scores[i])[::-1] + 1"
   ]
  },
  {
   "cell_type": "code",
   "execution_count": 126,
   "id": "024f166c",
   "metadata": {},
   "outputs": [
    {
     "data": {
      "image/png": "[encoded data removed]",
      "text/plain": [
       "<Figure size 720x432 with 1 Axes>"
      ]
     },
     "metadata": {
      "needs_background": "light"
     },
     "output_type": "display_data"
    }
   ],
   "source": [
    "df_rank = pd.DataFrame(ranks, columns=RATs, index=services)\n",
    "#df_rank = df_rank.T\n",
    "\n",
    "df_rank.plot(kind='bar', figsize=(10, 6))\n",
    "plt.xlabel('RATs')\n",
    "plt.ylabel('Rank')\n",
    "plt.title('Rank of RATs by Service')\n",
    "plt.xticks(rotation=45)\n",
    "plt.show()"
   ]
  }
 ],
 "metadata": {
  "kernelspec": {
   "display_name": "Python 3",
   "language": "python",
   "name": "python3"
  },
  "language_info": {
   "codemirror_mode": {
    "name": "ipython",
    "version": 3
   },
   "file_extension": ".py",
   "mimetype": "text/x-python",
   "name": "python",
   "nbconvert_exporter": "python",
   "pygments_lexer": "ipython3",
   "version": "3.10.12"
  }
 },
 "nbformat": 4,
 "nbformat_minor": 5
}
